{
 "cells": [
  {
   "cell_type": "markdown",
   "metadata": {},
   "source": [
    "Source: https://www.python-graph-gallery.com/342-animation-on-3d-plot"
   ]
  },
  {
   "cell_type": "code",
   "execution_count": 16,
   "metadata": {},
   "outputs": [],
   "source": [
    "# library\n",
    "from mpl_toolkits.mplot3d import Axes3D\n",
    "import matplotlib.pyplot as plt\n",
    "import pandas as pd\n",
    "import seaborn as sns\n",
    " \n",
    "# Get the data (csv file is hosted on the web)\n",
    "url = 'https://raw.githubusercontent.com/holtzy/The-Python-Graph-Gallery/master/static/data/volcano.csv'\n",
    "data = pd.read_csv(url)\n",
    " \n",
    "# Transform it to a long format\n",
    "df=data.unstack().reset_index()\n",
    "df.columns=[\"X\",\"Y\",\"Z\"]\n",
    " \n",
    "# And transform the old column name in something numeric\n",
    "df['X']=pd.Categorical(df['X'])\n",
    "df['X']=df['X'].cat.codes\n",
    " \n",
    "# We are going to do 20 plots, for 20 different angles\n",
    "for angle in range(70,210,2):\n",
    " \n",
    "    # Turn interactive plotting off\n",
    "    plt.ioff()\n",
    "\n",
    "    # Make the plot\n",
    "    fig = plt.figure()\n",
    "    ax = fig.gca(projection='3d')\n",
    "    ax.plot_trisurf(df['Y'], df['X'], df['Z'], cmap=plt.cm.viridis, linewidth=0.2)\n",
    "    \n",
    "    # Set the angle of the camera\n",
    "    ax.view_init(30,angle)\n",
    "    \n",
    "    # Save it\n",
    "    filename='Volcano_step'+str(angle)+'.png'\n",
    "    plt.savefig(fname=filename, dpi=96)\n",
    "    plt.gca()\n",
    "    plt.close(fig)\n"
   ]
  },
  {
   "cell_type": "code",
   "execution_count": 22,
   "metadata": {},
   "outputs": [],
   "source": [
    "%%bash\n",
    "convert Volcano_step*.png volcano.gif"
   ]
  },
  {
   "cell_type": "code",
   "execution_count": null,
   "metadata": {},
   "outputs": [],
   "source": []
  }
 ],
 "metadata": {
  "kernelspec": {
   "display_name": "Python 3",
   "language": "python",
   "name": "python3"
  },
  "language_info": {
   "codemirror_mode": {
    "name": "ipython",
    "version": 3
   },
   "file_extension": ".py",
   "mimetype": "text/x-python",
   "name": "python",
   "nbconvert_exporter": "python",
   "pygments_lexer": "ipython3",
   "version": "3.7.6"
  }
 },
 "nbformat": 4,
 "nbformat_minor": 1
}
